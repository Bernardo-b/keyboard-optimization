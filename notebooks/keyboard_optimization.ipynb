{
 "cells": [
  {
   "cell_type": "markdown",
   "id": "2ebb76fe",
   "metadata": {},
   "source": [
    "# Otimização de Teclado"
   ]
  },
  {
   "cell_type": "markdown",
   "id": "751fb0a5",
   "metadata": {},
   "source": [
    "## Introdução"
   ]
  },
  {
   "cell_type": "markdown",
   "id": "b961baa7",
   "metadata": {},
   "source": [
    "### O Primeiro Teclado"
   ]
  },
  {
   "cell_type": "markdown",
   "id": "8231ce13",
   "metadata": {},
   "source": [
    "Os teclados que usamos hoje em nossos computadores, celulares e outros dispositivos eletrônicos têm uma história que remonta ao século XIX. Naquela época, as pessoas usavam uma máquina de escrever para escrever cartas, livros e outras formas de comunicação. A primeira máquina de escrever bem-sucedida comercialmente foi a \"Sholes and Glidden Type Writer\", inventada em 1868 nos Estados Unidos."
   ]
  },
  {
   "cell_type": "markdown",
   "id": "f2ab1a76",
   "metadata": {},
   "source": [
    "**Essa máquina de escrever usava um teclado com uma disposição diferente das letras em comparação com o teclado que usamos hoje. Naquele tempo, as letras eram organizadas em ordem alfabética, começando com a letra \"A\" no canto superior esquerdo e terminando com a letra \"Z\" no canto inferior direito.** Isso pode parecer estranho para nós hoje, mas naquela época, as pessoas estavam acostumadas a escrever a mão e não tinham um teclado padrão para seguir."
   ]
  },
  {
   "cell_type": "markdown",
   "id": "6fdfab9a",
   "metadata": {},
   "source": [
    "O teclado QWERTY foi inventado por Christopher Sholes em 1873, para ser usado na máquina de escrever. **A ideia de Sholes era projetar um teclado que pudesse reduzir a colisão de tipos das barras da máquina de escrever, que costumavam ficar presas umas nas outras.**"
   ]
  },
  {
   "cell_type": "markdown",
   "id": "160b874c",
   "metadata": {},
   "source": [
    "![Sholes and Glidden Type Writer](../images/Figure-6.jpg)"
   ]
  },
  {
   "cell_type": "markdown",
   "id": "104ae0c1",
   "metadata": {},
   "source": [
    "Para conseguir isso, Sholes alterou a disposição das teclas, colocando as letras mais comuns na língua inglesa em posições que fossem menos propensas a colisões. Ele também separou as teclas das vogais, que são usadas com menos frequência do que as consoantes, para que os datilógrafos pudessem digitar mais rapidamente sem que as barras da máquina de escrever colidissem."
   ]
  },
  {
   "cell_type": "markdown",
   "id": "6588f54f",
   "metadata": {},
   "source": [
    "No entanto, **a disposição das teclas do teclado QWERTY não foi baseada em estudos científicos ou em pesquisas rigorosas. Em vez disso, foi desenvolvida por tentativa e erro e foi aperfeiçoada com o tempo.** Acredita-se que Sholes tenha testado muitas disposições diferentes das teclas antes de chegar à disposição final do teclado QWERTY."
   ]
  },
  {
   "cell_type": "markdown",
   "id": "6bf68417",
   "metadata": {},
   "source": [
    "Apesar de ser amplamente utilizado, o teclado QWERTY tem sido criticado por ser ineficiente. Em resposta, vários novos layouts de teclado foram desenvolvidos, como o **Dvorak Simplified Keyboard**, que foi projetado para ser mais eficiente do que o QWERTY. No entanto, o QWERTY ainda é o layout de teclado mais amplamente utilizado no mundo."
   ]
  },
  {
   "cell_type": "markdown",
   "id": "fb3e5163",
   "metadata": {},
   "source": [
    "**Visto que o teclado QWERTY tem suas ineficiências e seu desenvolvimento foi feito através da tentativa e erro, há uma oportunidade de criar um teclado mais eficiente se baseando em dados e pesquisas.**"
   ]
  },
  {
   "cell_type": "markdown",
   "id": "a628c1dc",
   "metadata": {},
   "source": [
    "O objetivo da otimização da localização das teclas do teclado desse projeto é **minimizar a distância que deve ser percorrida entre um clique de uma tecla e outro.** Isso pode melhorar a eficiência e velocidade da digitação, reduzindo o tempo necessário para mover os dedos entre as teclas."
   ]
  },
  {
   "cell_type": "markdown",
   "id": "b7237277",
   "metadata": {},
   "source": [
    "Existem vários layouts alternativos de teclado que foram desenvolvidos para minimizar essa distância, como o Dvorak Simplified Keyboard e o Colemak. Esses layouts colocam as letras mais comuns em posições mais acessíveis e reduzem o movimento dos dedos, resultando em uma digitação mais rápida e precisa."
   ]
  },
  {
   "cell_type": "markdown",
   "id": "62a070f3",
   "metadata": {},
   "source": [
    "A otimização da localização das teclas do teclado pode melhorar a produtividade dos usuários, resultando em uma experiência de digitação mais eficiente e agradável. Portanto, explorar as opções de layout de teclado alternativo pode ser útil para encontrar a melhor configuração para suas necessidades específicas."
   ]
  },
  {
   "cell_type": "markdown",
   "id": "01d2f951",
   "metadata": {},
   "source": [
    "### Algorítimo Genético"
   ]
  },
  {
   "cell_type": "markdown",
   "id": "12c98de6",
   "metadata": {},
   "source": [
    "Um algoritmo genético é uma técnica de otimização que se baseia nos princípios biológicos da evolução natural para encontrar soluções para problemas complexos. A solução candidata é representada por um cromossomo, composto por um conjunto de genes que codificam as características da solução. Cada gene é uma variável que pode assumir um valor específico, correspondente a uma possível solução para o problema.\n",
    "\n",
    "O algoritmo começa com uma população inicial de cromossomos gerados aleatoriamente. Em seguida, é realizada uma avaliação de cada solução candidata, utilizando uma função de aptidão que mede o quão bem ela atende aos critérios do problema. Os cromossomos com maior aptidão são selecionados para reprodução, gerando novas soluções candidatas através de operadores genéticos como a combinação e a mutação dos cromossomos pais.\n",
    "\n",
    "Os algoritmos genéticos são amplamente utilizados em diversas áreas, como a engenharia, a computação, a biologia, a economia e a ciência da informação, entre outras. Eles são capazes de lidar com problemas complexos e não-lineares, permitindo a otimização de soluções em tempo razoável."
   ]
  },
  {
   "cell_type": "markdown",
   "id": "cf6e4555",
   "metadata": {},
   "source": [
    "Os principais operadores que compõem um algoritmo genético são:\n",
    "\n",
    "1. Evaluation (Avaliação): Nesta etapa, cada solução candidata é avaliada utilizando uma função de aptidão que mede o quão bem ela atende aos critérios do problema.\n",
    "\n",
    "2. Selection (Seleção): Após a avaliação, os cromossomos com maior aptidão são selecionados para reprodução. Existem várias estratégias de seleção, incluindo seleção por torneio, seleção proporcional à aptidão e seleção elitista.\n",
    "\n",
    "3. Crossover (Cruzamento): Nesta etapa, os cromossomos selecionados para reprodução são combinados para gerar novas soluções candidatas. O operador de cruzamento combina os genes de dois cromossomos pais, produzindo novos cromossomos filhos que são uma mistura dos cromossomos pais.\n",
    "\n",
    "4. Mutation (Mutação): A mutação é um operador que introduz variação na população, alterando aleatoriamente um ou mais genes em um cromossomo. A mutação pode ser importante para evitar que o algoritmo fique preso em mínimos locais e para garantir a diversidade da população."
   ]
  },
  {
   "cell_type": "markdown",
   "id": "a8a3a5db",
   "metadata": {},
   "source": [
    "![Algoritimo Genético](../images/gadiagram.svg)"
   ]
  },
  {
   "cell_type": "markdown",
   "id": "7d11b89c",
   "metadata": {},
   "source": [
    "---"
   ]
  },
  {
   "cell_type": "markdown",
   "id": "8ddd55a0",
   "metadata": {},
   "source": [
    "## Código"
   ]
  },
  {
   "cell_type": "markdown",
   "id": "a4a86825",
   "metadata": {},
   "source": [
    "Premissas do projeto:\n",
    "- O teclado é otimizado para digitação com um dedo apenas (com mais dedos para vir no futuro).\n",
    "- Espaço são ignorados (Erro).\n",
    "- Não é utilizado crossover no algorítimo."
   ]
  },
  {
   "cell_type": "markdown",
   "id": "7763a529",
   "metadata": {},
   "source": [
    "### Importações"
   ]
  },
  {
   "cell_type": "code",
   "execution_count": 1,
   "id": "57afbd09",
   "metadata": {
    "ExecuteTime": {
     "end_time": "2023-03-27T12:30:41.881063Z",
     "start_time": "2023-03-27T12:30:38.605955Z"
    }
   },
   "outputs": [],
   "source": [
    "import numpy as np\n",
    "import matplotlib.pyplot as plt\n",
    "import random\n",
    "import pandas as pd\n",
    "from tqdm import tqdm\n",
    "np.random.seed(42)"
   ]
  },
  {
   "cell_type": "markdown",
   "id": "bdf11027",
   "metadata": {
    "ExecuteTime": {
     "end_time": "2023-03-23T13:50:05.084129Z",
     "start_time": "2023-03-23T13:50:05.072009Z"
    }
   },
   "source": [
    "---"
   ]
  },
  {
   "cell_type": "markdown",
   "id": "119ae26d",
   "metadata": {},
   "source": [
    "### Função de Plot do Teclado"
   ]
  },
  {
   "cell_type": "markdown",
   "id": "2d2bf9c8",
   "metadata": {},
   "source": [
    "A criação da função para plotar o teclado teve como motivação a necessidade de uma visualização mais clara e interativa do layout das teclas. Através da plotagem do teclado, é possível ver como as teclas estão dispostas e como elas podem ser otimizadas para melhorar a eficiência e velocidade da digitação."
   ]
  },
  {
   "cell_type": "markdown",
   "id": "636c62bb",
   "metadata": {},
   "source": [
    "Para isso, foi definido também as coordenadas de cada tecla. A posição de cada tecla foi definida de acordo com a imagem a seguir:"
   ]
  },
  {
   "cell_type": "markdown",
   "id": "92deb6fc",
   "metadata": {},
   "source": [
    "![Sholes and Glidden Type Writer](../images/keyboard_coordinates.png)"
   ]
  },
  {
   "cell_type": "markdown",
   "id": "eb381d73",
   "metadata": {},
   "source": [
    "Os teclados das máquinas de escrever antigas tinham 4 linhas de teclas e cada tecla era acionada por uma barra de tipos. Para evitar que as barras colidissem, as linhas de teclas eram defasadas em 1/4 de posição, permitindo que as barras se movessem sem obstrução e evitando que as teclas se prendessem."
   ]
  },
  {
   "cell_type": "code",
   "execution_count": 2,
   "id": "baf23ea9",
   "metadata": {
    "ExecuteTime": {
     "end_time": "2023-03-24T14:31:35.116179Z",
     "start_time": "2023-03-24T14:31:35.103528Z"
    }
   },
   "outputs": [],
   "source": [
    "# Cria um dicionário vazio para armazenar as coordenadas de cada tecla\n",
    "keys_coords = {}\n",
    "\n",
    "# Adiciona as coordenadas da linha superior das teclas numéricas e de função\n",
    "keys_coords[0] = {i: np.array([0, i]) for i in range(10)}\n",
    "\n",
    "# Adiciona as coordenadas da linha do meio das teclas alfabéticas\n",
    "keys_coords[1] = {i: np.array([1, i + 0.25]) for i in range(10)}\n",
    "\n",
    "# Adiciona as coordenadas da linha inferior das teclas alfabéticas e teclas de pontuação\n",
    "keys_coords[2] = {i: np.array([2, i + 0.75]) for i in range(9)}\n",
    "\n",
    "# Combina todas as coordenadas em uma única lista e a converte em uma matriz numpy transposta\n",
    "coords = np.array(sum([list(i.values()) for i in list(keys_coords.values())],\n",
    "                      []),\n",
    "                  dtype=np.float64).T\n",
    "\n",
    "# Cria uma lista com todas as teclas do teclado QWERTY (incluindo letras e sinais de pontuação)\n",
    "qwerty_keys = [i for i in 'qwertyuiopasdfghjklçzxcvbnm,.']"
   ]
  },
  {
   "cell_type": "code",
   "execution_count": 3,
   "id": "538d0f14",
   "metadata": {
    "ExecuteTime": {
     "end_time": "2023-03-24T14:31:35.131920Z",
     "start_time": "2023-03-24T14:31:35.118068Z"
    }
   },
   "outputs": [],
   "source": [
    "def plot_keyboard(keys):\n",
    "    \"\"\"\n",
    "    Plota o teclado QWERTY com as teclas especificadas\n",
    "\n",
    "    Args:\n",
    "        keys (list): lista contendo as teclas na ordem a serem exibidas\n",
    "\n",
    "    Returns:\n",
    "        None\n",
    "    \"\"\"\n",
    "    fig, ax = plt.subplots(figsize=(13, 5))\n",
    "    ax.scatter(coords[1], 1 - coords[0], color='black', marker='s', lw=50)\n",
    "    ax.scatter(coords[1], 1 - coords[0], color='white', marker='s', lw=40)\n",
    "    for n, i in enumerate(keys):\n",
    "        ax.text(coords[1][n],\n",
    "                1 - coords[0][n],\n",
    "                i.upper(),\n",
    "                fontsize=30,\n",
    "                verticalalignment='center',\n",
    "                horizontalalignment='center')\n",
    "    ax.set_xlim(-1, 10)\n",
    "    ax.set_ylim(-2, 2)\n",
    "    plt.axis('off')\n",
    "    plt.show()"
   ]
  },
  {
   "cell_type": "markdown",
   "id": "e7b494a2",
   "metadata": {},
   "source": [
    "Foi feita uma convenção que o string em ordem vai ser plotado das seguintes maneiras no teclado."
   ]
  },
  {
   "cell_type": "markdown",
   "id": "ed8dcf67",
   "metadata": {},
   "source": [
    "Exemplos de plots:"
   ]
  },
  {
   "cell_type": "code",
   "execution_count": 4,
   "id": "3a6e2369",
   "metadata": {
    "ExecuteTime": {
     "end_time": "2023-03-24T14:31:35.304568Z",
     "start_time": "2023-03-24T14:31:35.134840Z"
    }
   },
   "outputs": [
    {
     "data": {
      "image/png": "[encoded data removed]",
      "text/plain": [
       "<Figure size 936x360 with 1 Axes>"
      ]
     },
     "metadata": {
      "needs_background": "light"
     },
     "output_type": "display_data"
    }
   ],
   "source": [
    "plot_keyboard([str(i) for i in range(1,len(qwerty_keys)+1)])"
   ]
  },
  {
   "cell_type": "code",
   "execution_count": 5,
   "id": "006647ba",
   "metadata": {
    "ExecuteTime": {
     "end_time": "2023-03-24T14:31:35.320232Z",
     "start_time": "2023-03-24T14:31:35.307494Z"
    }
   },
   "outputs": [
    {
     "data": {
      "text/plain": [
       "'qwertyuiopasdfghjklçzxcvbnm,.'"
      ]
     },
     "execution_count": 5,
     "metadata": {},
     "output_type": "execute_result"
    }
   ],
   "source": [
    "''.join(qwerty_keys)"
   ]
  },
  {
   "cell_type": "code",
   "execution_count": 6,
   "id": "e64278d7",
   "metadata": {
    "ExecuteTime": {
     "end_time": "2023-03-24T14:31:35.412941Z",
     "start_time": "2023-03-24T14:31:35.323148Z"
    }
   },
   "outputs": [
    {
     "data": {
      "image/png": "[encoded data removed]",
      "text/plain": [
       "<Figure size 936x360 with 1 Axes>"
      ]
     },
     "metadata": {
      "needs_background": "light"
     },
     "output_type": "display_data"
    }
   ],
   "source": [
    "plot_keyboard(qwerty_keys)"
   ]
  },
  {
   "cell_type": "markdown",
   "id": "e03f41bc",
   "metadata": {},
   "source": [
    "---"
   ]
  },
  {
   "cell_type": "markdown",
   "id": "f5d161fc",
   "metadata": {},
   "source": [
    "Para criar um teclado que **minimizasse a distância percorrida entre as teclas**, foram utilizados dados de textos para calcular a frequência de combinações de letras seguidas. A partir desses dados, foi possível calcular a distância entre cada dupla de letras e multiplicá-la pela quantidade de ocorrências para obter a pontuação de cada dupla de letras.\n",
    "\n",
    "Ao somar todas as pontuações, foi possível obter a pontuação total do teclado. Quanto menor a pontuação, menor a distância que deve ser percorrida entre as teclas e, portanto, mais eficiente o teclado é para a digitação."
   ]
  },
  {
   "cell_type": "markdown",
   "id": "18242de8",
   "metadata": {},
   "source": [
    "Para os dados, foi utilizada uma base de dados do kaggle chamada [Brazilian Portuguese Sentiment Analysis Datasets](https://www.kaggle.com/datasets/fredericods/ptbr-sentiment-analysis-datasets?resource=download). Essa base contém dados de reviews de grandes varejistas brasileiras. A descrição da base segue:\n",
    "- A B2W Digital, uma das empresas de comércio eletrônico mais proeminentes da América Latina, lançou o B2W-Reviews01, um corpus aberto de avaliações de produtos com mais de 130.000 avaliações de usuários. Este conjunto de dados tem duas características de destino: o rótulo binário \"recomenda a um amigo\" e uma classificação de usuário de 1 a 5 estrelas."
   ]
  },
  {
   "cell_type": "code",
   "execution_count": 7,
   "id": "1934d259",
   "metadata": {
    "ExecuteTime": {
     "end_time": "2023-03-24T14:31:36.511052Z",
     "start_time": "2023-03-24T14:31:35.414865Z"
    }
   },
   "outputs": [],
   "source": [
    "# Lê a coluna 'review_text_processed' do arquivo csv\n",
    "text = pd.read_csv('../data/b2w.csv')"
   ]
  },
  {
   "cell_type": "code",
   "execution_count": 8,
   "id": "7b11d196",
   "metadata": {
    "ExecuteTime": {
     "end_time": "2023-03-24T14:31:36.591053Z",
     "start_time": "2023-03-24T14:31:36.514053Z"
    }
   },
   "outputs": [
    {
     "data": {
      "text/html": [
       "<div>\n",
       "<style scoped>\n",
       "    .dataframe tbody tr th:only-of-type {\n",
       "        vertical-align: middle;\n",
       "    }\n",
       "\n",
       "    .dataframe tbody tr th {\n",
       "        vertical-align: top;\n",
       "    }\n",
       "\n",
       "    .dataframe thead th {\n",
       "        text-align: right;\n",
       "    }\n",
       "</style>\n",
       "<table border=\"1\" class=\"dataframe\">\n",
       "  <thead>\n",
       "    <tr style=\"text-align: right;\">\n",
       "      <th></th>\n",
       "      <th>original_index</th>\n",
       "      <th>review_text</th>\n",
       "      <th>review_text_processed</th>\n",
       "      <th>review_text_tokenized</th>\n",
       "      <th>polarity</th>\n",
       "      <th>rating</th>\n",
       "      <th>kfold_polarity</th>\n",
       "      <th>kfold_rating</th>\n",
       "    </tr>\n",
       "  </thead>\n",
       "  <tbody>\n",
       "    <tr>\n",
       "      <th>0</th>\n",
       "      <td>11955</td>\n",
       "      <td>Bem macio e felpudo...recomendo.  Preço imbatí...</td>\n",
       "      <td>bem macio e felpudo...recomendo.  preco imbati...</td>\n",
       "      <td>['bem', 'macio', 'felpudo', 'recomendo', 'prec...</td>\n",
       "      <td>1.0</td>\n",
       "      <td>4</td>\n",
       "      <td>1</td>\n",
       "      <td>1</td>\n",
       "    </tr>\n",
       "    <tr>\n",
       "      <th>1</th>\n",
       "      <td>35478</td>\n",
       "      <td>Produto excepcional!  recomendo!!! inovador e ...</td>\n",
       "      <td>produto excepcional!  recomendo!!! inovador e ...</td>\n",
       "      <td>['produto', 'excepcional', 'recomendo', 'inova...</td>\n",
       "      <td>1.0</td>\n",
       "      <td>5</td>\n",
       "      <td>1</td>\n",
       "      <td>1</td>\n",
       "    </tr>\n",
       "    <tr>\n",
       "      <th>2</th>\n",
       "      <td>122760</td>\n",
       "      <td>recebi o produto antes do prazo mas veio com d...</td>\n",
       "      <td>recebi o produto antes do prazo mas veio com d...</td>\n",
       "      <td>['recebi', 'produto', 'antes', 'do', 'prazo', ...</td>\n",
       "      <td>0.0</td>\n",
       "      <td>1</td>\n",
       "      <td>1</td>\n",
       "      <td>1</td>\n",
       "    </tr>\n",
       "    <tr>\n",
       "      <th>3</th>\n",
       "      <td>17114</td>\n",
       "      <td>Bom custo beneficio. Adequado para pessoas que...</td>\n",
       "      <td>bom custo beneficio. adequado para pessoas que...</td>\n",
       "      <td>['bom', 'custo', 'beneficio', 'adequado', 'par...</td>\n",
       "      <td>1.0</td>\n",
       "      <td>5</td>\n",
       "      <td>1</td>\n",
       "      <td>1</td>\n",
       "    </tr>\n",
       "    <tr>\n",
       "      <th>4</th>\n",
       "      <td>19112</td>\n",
       "      <td>Além de higiênico tem o tamanho ideal. Só falt...</td>\n",
       "      <td>alem de higienico tem o tamanho ideal. so falt...</td>\n",
       "      <td>['alem', 'de', 'higienico', 'tem', 'tamanho', ...</td>\n",
       "      <td>NaN</td>\n",
       "      <td>3</td>\n",
       "      <td>-1</td>\n",
       "      <td>1</td>\n",
       "    </tr>\n",
       "    <tr>\n",
       "      <th>...</th>\n",
       "      <td>...</td>\n",
       "      <td>...</td>\n",
       "      <td>...</td>\n",
       "      <td>...</td>\n",
       "      <td>...</td>\n",
       "      <td>...</td>\n",
       "      <td>...</td>\n",
       "      <td>...</td>\n",
       "    </tr>\n",
       "    <tr>\n",
       "      <th>132368</th>\n",
       "      <td>41993</td>\n",
       "      <td>SMARTHPHONE  PERFEITO  MUITO  BOM  E  A  ECONO...</td>\n",
       "      <td>smarthphone  perfeito  muito  bom  e  a  econo...</td>\n",
       "      <td>['smarthphone', 'perfeito', 'muito', 'bom', 'e...</td>\n",
       "      <td>1.0</td>\n",
       "      <td>5</td>\n",
       "      <td>10</td>\n",
       "      <td>10</td>\n",
       "    </tr>\n",
       "    <tr>\n",
       "      <th>132369</th>\n",
       "      <td>97639</td>\n",
       "      <td>Eu estou muito chateado com isso gostaria que ...</td>\n",
       "      <td>eu estou muito chateado com isso gostaria que ...</td>\n",
       "      <td>['eu', 'estou', 'muito', 'chateado', 'com', 'i...</td>\n",
       "      <td>0.0</td>\n",
       "      <td>1</td>\n",
       "      <td>10</td>\n",
       "      <td>10</td>\n",
       "    </tr>\n",
       "    <tr>\n",
       "      <th>132370</th>\n",
       "      <td>95939</td>\n",
       "      <td>Vale a pena pelo preço oferecido, qualidade a ...</td>\n",
       "      <td>vale a pena pelo preco oferecido, qualidade a ...</td>\n",
       "      <td>['vale', 'pena', 'pelo', 'preco', 'oferecido',...</td>\n",
       "      <td>NaN</td>\n",
       "      <td>3</td>\n",
       "      <td>-1</td>\n",
       "      <td>10</td>\n",
       "    </tr>\n",
       "    <tr>\n",
       "      <th>132371</th>\n",
       "      <td>117952</td>\n",
       "      <td>O produto anunciado no site dizia ser  100% al...</td>\n",
       "      <td>o produto anunciado no site dizia ser  100% al...</td>\n",
       "      <td>['produto', 'anunciado', 'no', 'site', 'dizia'...</td>\n",
       "      <td>0.0</td>\n",
       "      <td>1</td>\n",
       "      <td>10</td>\n",
       "      <td>10</td>\n",
       "    </tr>\n",
       "    <tr>\n",
       "      <th>132372</th>\n",
       "      <td>43567</td>\n",
       "      <td>Não recebi o produto e consta como entregue no...</td>\n",
       "      <td>nao recebi o produto e consta como entregue no...</td>\n",
       "      <td>['nao', 'recebi', 'produto', 'consta', 'como',...</td>\n",
       "      <td>0.0</td>\n",
       "      <td>1</td>\n",
       "      <td>10</td>\n",
       "      <td>10</td>\n",
       "    </tr>\n",
       "  </tbody>\n",
       "</table>\n",
       "<p>132373 rows × 8 columns</p>\n",
       "</div>"
      ],
      "text/plain": [
       "        original_index                                        review_text  \\\n",
       "0                11955  Bem macio e felpudo...recomendo.  Preço imbatí...   \n",
       "1                35478  Produto excepcional!  recomendo!!! inovador e ...   \n",
       "2               122760  recebi o produto antes do prazo mas veio com d...   \n",
       "3                17114  Bom custo beneficio. Adequado para pessoas que...   \n",
       "4                19112  Além de higiênico tem o tamanho ideal. Só falt...   \n",
       "...                ...                                                ...   \n",
       "132368           41993  SMARTHPHONE  PERFEITO  MUITO  BOM  E  A  ECONO...   \n",
       "132369           97639  Eu estou muito chateado com isso gostaria que ...   \n",
       "132370           95939  Vale a pena pelo preço oferecido, qualidade a ...   \n",
       "132371          117952  O produto anunciado no site dizia ser  100% al...   \n",
       "132372           43567  Não recebi o produto e consta como entregue no...   \n",
       "\n",
       "                                    review_text_processed  \\\n",
       "0       bem macio e felpudo...recomendo.  preco imbati...   \n",
       "1       produto excepcional!  recomendo!!! inovador e ...   \n",
       "2       recebi o produto antes do prazo mas veio com d...   \n",
       "3       bom custo beneficio. adequado para pessoas que...   \n",
       "4       alem de higienico tem o tamanho ideal. so falt...   \n",
       "...                                                   ...   \n",
       "132368  smarthphone  perfeito  muito  bom  e  a  econo...   \n",
       "132369  eu estou muito chateado com isso gostaria que ...   \n",
       "132370  vale a pena pelo preco oferecido, qualidade a ...   \n",
       "132371  o produto anunciado no site dizia ser  100% al...   \n",
       "132372  nao recebi o produto e consta como entregue no...   \n",
       "\n",
       "                                    review_text_tokenized  polarity  rating  \\\n",
       "0       ['bem', 'macio', 'felpudo', 'recomendo', 'prec...       1.0       4   \n",
       "1       ['produto', 'excepcional', 'recomendo', 'inova...       1.0       5   \n",
       "2       ['recebi', 'produto', 'antes', 'do', 'prazo', ...       0.0       1   \n",
       "3       ['bom', 'custo', 'beneficio', 'adequado', 'par...       1.0       5   \n",
       "4       ['alem', 'de', 'higienico', 'tem', 'tamanho', ...       NaN       3   \n",
       "...                                                   ...       ...     ...   \n",
       "132368  ['smarthphone', 'perfeito', 'muito', 'bom', 'e...       1.0       5   \n",
       "132369  ['eu', 'estou', 'muito', 'chateado', 'com', 'i...       0.0       1   \n",
       "132370  ['vale', 'pena', 'pelo', 'preco', 'oferecido',...       NaN       3   \n",
       "132371  ['produto', 'anunciado', 'no', 'site', 'dizia'...       0.0       1   \n",
       "132372  ['nao', 'recebi', 'produto', 'consta', 'como',...       0.0       1   \n",
       "\n",
       "        kfold_polarity  kfold_rating  \n",
       "0                    1             1  \n",
       "1                    1             1  \n",
       "2                    1             1  \n",
       "3                    1             1  \n",
       "4                   -1             1  \n",
       "...                ...           ...  \n",
       "132368              10            10  \n",
       "132369              10            10  \n",
       "132370              -1            10  \n",
       "132371              10            10  \n",
       "132372              10            10  \n",
       "\n",
       "[132373 rows x 8 columns]"
      ]
     },
     "execution_count": 8,
     "metadata": {},
     "output_type": "execute_result"
    }
   ],
   "source": [
    "text"
   ]
  },
  {
   "cell_type": "code",
   "execution_count": 9,
   "id": "162f6ec9",
   "metadata": {
    "ExecuteTime": {
     "end_time": "2023-03-24T14:31:41.823403Z",
     "start_time": "2023-03-24T14:31:36.598057Z"
    }
   },
   "outputs": [],
   "source": [
    "# Junta todas as strings em uma única string\n",
    "text = ' '.join(text['review_text_processed'].tolist())\n",
    "\n",
    "# Cria uma lista com todas as letras, números e sinais de pontuação do texto\n",
    "text = [i for i in text if i in 'qwertyuiopasdfghjklçzxcvbnm,.']\n",
    "\n",
    "# Junta todos os caracteres da lista em uma única string\n",
    "text = ''.join(text)\n",
    "\n",
    "# Cria uma lista com todas as tuplas de caracteres consecutivos no texto\n",
    "text = list(zip(text, text[1:]))\n",
    "\n",
    "# Cria uma série pandas a partir da lista de tuplas e conta quantas vezes cada tupla aparece no texto\n",
    "text = pd.Series(text)\n",
    "text = text.value_counts()"
   ]
  },
  {
   "cell_type": "code",
   "execution_count": 10,
   "id": "31e51dd4",
   "metadata": {
    "ExecuteTime": {
     "end_time": "2023-03-24T14:31:41.838373Z",
     "start_time": "2023-03-24T14:31:41.826375Z"
    }
   },
   "outputs": [
    {
     "data": {
      "text/plain": [
       "(e, n)    276824\n",
       "(t, o)    254243\n",
       "(r, a)    252854\n",
       "(r, e)    247589\n",
       "(c, o)    237623\n",
       "           ...  \n",
       "(c, w)         8\n",
       "(g, z)         5\n",
       "(w, x)         4\n",
       "(z, y)         4\n",
       "(w, z)         1\n",
       "Length: 782, dtype: int64"
      ]
     },
     "execution_count": 10,
     "metadata": {},
     "output_type": "execute_result"
    }
   ],
   "source": [
    "text"
   ]
  },
  {
   "cell_type": "markdown",
   "id": "962d3a7a",
   "metadata": {},
   "source": [
    "Outra opção de base é a do Buscapé:"
   ]
  },
  {
   "cell_type": "raw",
   "id": "626183b1",
   "metadata": {
    "ExecuteTime": {
     "end_time": "2023-03-23T15:36:02.387042Z",
     "start_time": "2023-03-23T15:35:57.435404Z"
    }
   },
   "source": [
    "# Lê o arquivo csv 'buscape.csv' usando a biblioteca pandas\n",
    "text = pd.read_csv('../data/buscape.csv')\n",
    "\n",
    "# Converte a coluna 'review_text_processed' do arquivo csv em uma única string e remove qualquer valor NaN\n",
    "text = ' '.join(text['review_text_processed'].astype(str).dropna().tolist())\n",
    "\n",
    "# Cria uma lista com todas as letras, números e sinais de pontuação da string\n",
    "text = [i for i in text if i in 'qwertyuiopasdfghjklçzxcvbnm,.']\n",
    "\n",
    "# Junta todos os caracteres da lista em uma única string\n",
    "text = ''.join(text)\n",
    "\n",
    "# Cria uma lista com todas as tuplas de caracteres consecutivos na string\n",
    "text = list(zip(text, text[1:]))\n",
    "\n",
    "# Cria uma série pandas a partir da lista de tuplas e conta quantas vezes cada tupla aparece na string\n",
    "text = pd.Series(text)\n",
    "text = text.value_counts()"
   ]
  },
  {
   "cell_type": "markdown",
   "id": "1a5740ae",
   "metadata": {},
   "source": [
    "As funções ***get_points*** e ***mutation*** fazem parte de um algoritmo de otimização que visa encontrar a melhor sequência de teclas do teclado QWERTY para digitação de um texto específico.\n",
    "\n",
    "A função ***get_points*** calcula a pontuação de uma determinada sequência de caracteres no teclado QWERTY. Ela recebe como argumento uma lista com todas as teclas do teclado e utiliza um objeto pandas para mapear cada caractere do teclado às suas coordenadas correspondentes. Em seguida, extrai as tuplas de caracteres consecutivos do objeto text e calcula a distância euclidiana entre as coordenadas de cada par de caracteres consecutivos, multiplicando-a pela frequência de ocorrência de cada par. Por fim, retorna a soma dos resultados.\n",
    "\n",
    "Já a função ***mutation*** realiza uma mutação aleatória em uma sequência de caracteres. Ela recebe como argumento uma string representando a sequência de caracteres a ser mutada. A função converte a sequência de caracteres em um array numpy, seleciona aleatoriamente um subconjunto dos caracteres e realiza uma mutação neles, alterando a ordem em que os caracteres são dispostos na sequência. Por fim, converte o array numpy resultante de volta em uma string e a retorna.\n",
    "\n",
    "Ambas as funções são utilizadas no algoritmo de otimização para gerar novas sequências de teclas com base nas sequências existentes e avaliar a pontuação de cada uma delas. O objetivo do algoritmo é encontrar a melhor sequência de teclas do teclado QWERTY para digitação do texto especificado, a partir de uma população inicial de sequências geradas aleatoriamente."
   ]
  },
  {
   "cell_type": "code",
   "execution_count": 11,
   "id": "e0d00572",
   "metadata": {
    "ExecuteTime": {
     "end_time": "2023-03-24T14:31:41.854078Z",
     "start_time": "2023-03-24T14:31:41.841371Z"
    }
   },
   "outputs": [],
   "source": [
    "def get_points(keyboard):\n",
    "    \"\"\"\n",
    "    Retorna a pontuação de uma sequência de caracteres no teclado especificado.\n",
    "\n",
    "    Args:\n",
    "        keyboard (list): Uma lista com todas as teclas do teclado.\n",
    "\n",
    "    Returns:\n",
    "        float: A pontuação da sequência de caracteres.\n",
    "    \"\"\"\n",
    "    # Cria um objeto pandas que mapeia cada caractere do teclado às suas coordenadas correspondentes\n",
    "    conversion = pd.Series(dict(zip(keyboard, coords.T)))\n",
    "\n",
    "    # Extrai as tuplas de caracteres consecutivos do objeto text e cria um DataFrame pandas com elas\n",
    "    a = pd.DataFrame(np.array([list(i) for i in text.index.tolist()]))\n",
    "\n",
    "    # Calcula a distância euclidiana entre as coordenadas de cada par de caracteres consecutivos e as multiplica pela frequência de ocorrência de cada par\n",
    "    return (text.values * (a[0].apply(lambda i: conversion[i]) -\n",
    "                           a[1].apply(lambda i: conversion[i])).apply(\n",
    "                               np.linalg.norm).values).sum()\n",
    "\n",
    "\n",
    "def mutation(key,seed=1):\n",
    "    \"\"\"\n",
    "    Realiza uma mutação aleatória em uma sequência de caracteres.\n",
    "\n",
    "    Args:\n",
    "        key (str): A sequência de caracteres a ser mutada.\n",
    "\n",
    "    Returns:\n",
    "        str: A sequência de caracteres resultante da mutação.\n",
    "    \"\"\"\n",
    "    # Converte a sequência de caracteres em um array numpy\n",
    "    key = np.array([i for i in key])\n",
    "    \n",
    "    # Determina a random seed para geração aleatoria\n",
    "    #random.seed(seed)\n",
    "    \n",
    "    # Seleciona aleatoriamente um subconjunto dos caracteres e realiza uma mutação neles\n",
    "    change = random.sample(range(len(qwerty_keys)),\n",
    "                           int(len(qwerty_keys) * mutation_proportion))\n",
    "    key[change] = np.array(\n",
    "        random.sample(key[change].tolist(),\n",
    "                      int(len(qwerty_keys) * (mutation_proportion))))\n",
    "\n",
    "    # Converte o array numpy resultante de volta em uma string\n",
    "    return ''.join(key)"
   ]
  },
  {
   "cell_type": "markdown",
   "id": "09688add",
   "metadata": {},
   "source": [
    "As variáveis ***mutation_proportion***, ***top_best_keys***, ***generation_size*** e ***generations*** são utilizadas para ajustar a otimização realizada pelo algoritmo.\n",
    "\n",
    "A variável ***mutation_proportion*** define a proporção de mutação a ser usada em cada iteração do algoritmo. Ela determina a porcentagem de caracteres da sequência que serão selecionados aleatoriamente e terão sua ordem alterada.\n",
    "\n",
    "A variável ***top_best_keys*** define o número de teclas que serão mantidas em cada geração do algoritmo. Após a avaliação da pontuação de cada sequência, apenas as ***top_best_keys*** sequências com melhor pontuação serão mantidas, enquanto as demais serão descartadas.\n",
    "\n",
    "A variável ***generation_size*** define o tamanho de cada geração do algoritmo. Ela determina quantas sequências serão geradas aleatoriamente em cada geração.\n",
    "\n",
    "Por fim, a variável ***generations*** define o número de gerações que serão executadas pelo algoritmo. Ela determina quantas iterações serão realizadas pelo algoritmo para encontrar a melhor sequência de teclas do teclado QWERTY para digitação do texto especificado.\n",
    "\n",
    "Ao ajustar essas variáveis, é possível controlar a velocidade de convergência do algoritmo e o tempo necessário para encontrar a melhor sequência de teclas. Alterações nas variáveis podem levar a diferentes resultados de otimização, o que permite que o algoritmo seja adaptado para diferentes situações e necessidades."
   ]
  },
  {
   "cell_type": "code",
   "execution_count": 12,
   "id": "c78b6b4d",
   "metadata": {
    "ExecuteTime": {
     "end_time": "2023-03-24T14:31:41.869274Z",
     "start_time": "2023-03-24T14:31:41.856983Z"
    }
   },
   "outputs": [],
   "source": [
    "# Define a proporção de mutação a ser usada\n",
    "mutation_proportion = 3/29\n",
    "\n",
    "# Define o número de teclados a serem mantidas em cada geração\n",
    "top_best_keys = 10\n",
    "\n",
    "# Define o tamanho de cada geração\n",
    "generation_size = 200\n",
    "\n",
    "# Define o número de gerações a serem executadas\n",
    "generations = 60"
   ]
  },
  {
   "cell_type": "markdown",
   "id": "addd5593",
   "metadata": {},
   "source": [
    "As variáveis ***generation*** e ***generations_history*** são usadas para guardar o histórico de gerações geradas pelo algoritmo, enquanto ***stats*** é usado para armazenar as estatísticas de cada geração, como a pontuação mínima e média.\n",
    "\n",
    "A primeira linha do código cria uma série pandas com ***generation_size*** listas aleatórias de teclas, cada uma contendo todas as teclas do teclado QWERTY embaralhadas de forma aleatória. Em seguida, a função apply() é usada para converter cada lista de teclas em uma única string, através da função lambda que junta cada elemento da lista em uma única string.\n",
    "\n",
    "A variável ***generations_history*** é uma lista que será usada para armazenar todas as gerações geradas pelo algoritmo, enquanto a variável ***stats*** é uma lista que armazena as estatísticas de cada geração. No código, a lista generations_history é inicializada com a primeira geração gerada aleatoriamente.\n",
    "\n",
    "Por fim, a função ***get_points()*** é usada para calcular a pontuação da geração inicial, que é armazenada em ***stats*** através da função agg(). A pontuação mínima e média da geração são calculadas e armazenadas em uma lista, que será usada posteriormente para plotar um gráfico com a evolução da pontuação das gerações ao longo do tempo."
   ]
  },
  {
   "cell_type": "code",
   "execution_count": 13,
   "id": "be04c6a6",
   "metadata": {
    "ExecuteTime": {
     "end_time": "2023-03-24T14:31:43.708145Z",
     "start_time": "2023-03-24T14:31:41.872200Z"
    }
   },
   "outputs": [],
   "source": [
    "# Cria uma série pandas com 'generation_size' listas aleatórias de teclas\n",
    "generation = []\n",
    "for i in range(generation_size):\n",
    "    random.seed(i)\n",
    "    generation.append(random.sample(qwerty_keys, len(qwerty_keys)))\n",
    "generation = pd.Series(generation)\n",
    "\n",
    "# Converte cada lista de teclas em uma única string\n",
    "generation = generation.apply(lambda i: ''.join(i))\n",
    "\n",
    "# Cria uma lista para armazenar o histórico de gerações geradas\n",
    "generations_history = [generation]\n",
    "\n",
    "# Calcula a pontuação da geração inicial e armazena o valor mínimo e médio\n",
    "stats = [generation.apply(get_points).agg(['min', 'mean'])]"
   ]
  },
  {
   "cell_type": "markdown",
   "id": "fd7b8525",
   "metadata": {
    "ExecuteTime": {
     "end_time": "2023-03-23T17:19:24.331082Z",
     "start_time": "2023-03-23T17:19:24.318535Z"
    }
   },
   "source": [
    "O código abaixo é responsável por executar a otimização genética. Durante cada iteração, uma nova geração é gerada a partir da geração atual, sofrendo mutações aleatórias em suas sequências de teclas.\n",
    "\n",
    "- O loop for é executado na quantidade de gerações especificada (***generations***)\n",
    "- A linha generation = pd.Series(...) seleciona as ***top_best_keys*** melhores sequências de teclas da geração atual e cria uma nova geração a partir delas. Essa linha utiliza as funções apply() e sort_values() para ordenar a geração atual em ordem crescente de pontuação e selecionar as ***top_best_keys*** melhores sequências. Em seguida, a nova geração é gerada a partir dessas sequências.\n",
    "- A linha generation = generation.apply(mutation) realiza uma mutação aleatória em cada sequência de teclas da nova geração.\n",
    "- A linha generations_history.append(generation) adiciona a nova geração ao histórico de gerações, que é armazenado na lista generations_history.\n",
    "- A linha stats.append(generation.apply(get_points).agg(['min', 'mean'])) calcula a pontuação da nova geração utilizando a função get_points(), e armazena as estatísticas de pontuação mínima e média na lista stats."
   ]
  },
  {
   "cell_type": "code",
   "execution_count": 14,
   "id": "abca0c4e",
   "metadata": {
    "ExecuteTime": {
     "end_time": "2023-03-24T14:35:27.562861Z",
     "start_time": "2023-03-24T14:31:43.710049Z"
    }
   },
   "outputs": [
    {
     "name": "stderr",
     "output_type": "stream",
     "text": [
      "100%|██████████████████████████████████████████████████████████████████████████████████| 60/60 [03:41<00:00,  3.70s/it]\n"
     ]
    },
    {
     "data": {
      "text/plain": [
       "[<matplotlib.lines.Line2D at 0x275bce71720>]"
      ]
     },
     "execution_count": 14,
     "metadata": {},
     "output_type": "execute_result"
    },
    {
     "data": {
      "image/png": "[encoded data removed]",
      "text/plain": [
       "<Figure size 936x576 with 1 Axes>"
      ]
     },
     "metadata": {
      "needs_background": "light"
     },
     "output_type": "display_data"
    }
   ],
   "source": [
    "# Executa as próximas 'generations' gerações\n",
    "for i in tqdm(range(generations)):\n",
    "    # Seleciona as 'top_best_keys' melhores sequências de teclas da geração atual e gera uma nova geração a partir delas\n",
    "    generation = pd.Series(\n",
    "        int(generation_size / top_best_keys) * generation[generation.apply(\n",
    "            get_points).sort_values().index[:top_best_keys]].values.tolist())\n",
    "\n",
    "    # Realiza uma mutação aleatória em cada sequência de teclas da nova geração\n",
    "    generation = generation.apply(mutation)\n",
    "\n",
    "    # Adiciona a nova geração ao histórico de gerações\n",
    "    generations_history.append(generation)\n",
    "\n",
    "    # Calcula a pontuação da nova geração e armazena o valor mínimo e médio\n",
    "    stats.append(generation.apply(get_points).agg(['min', 'mean']))\n",
    "\n",
    "# Converte a lista 'stats' em um DataFrame pandas e adiciona os índices\n",
    "stats = pd.concat([pd.DataFrame(i).T for i in stats])\n",
    "stats.index = range(stats.shape[0])\n",
    "\n",
    "# Cria um DataFrame pandas com o histórico de todas as gerações geradas\n",
    "df_generations = pd.DataFrame(generations_history)\n",
    "\n",
    "# Encontra a melhor sequência de teclas encontrada em todas as gerações e armazena em 'best_key'\n",
    "best_key = df_generations.T.iloc[\n",
    "    df_generations.iloc[stats['min'].argmin()].apply(get_points).argmin(),\n",
    "    stats['min'].argmin()]\n",
    "\n",
    "# Cria um gráfico da evolução da pontuação mínima ao longo das gerações\n",
    "fig, ax = plt.subplots(figsize=(13, 8))\n",
    "ax.plot(stats['min'])"
   ]
  },
  {
   "cell_type": "markdown",
   "id": "c714cab8",
   "metadata": {},
   "source": [
    "---"
   ]
  },
  {
   "cell_type": "markdown",
   "id": "a1254ecf",
   "metadata": {
    "ExecuteTime": {
     "end_time": "2022-10-05T17:45:19.154181Z",
     "start_time": "2022-10-05T17:45:19.150182Z"
    }
   },
   "source": [
    "### Resultado"
   ]
  },
  {
   "cell_type": "markdown",
   "id": "1634a205",
   "metadata": {},
   "source": [
    "Os resultados da otimização mostram que, em geral, as teclas mais utilizadas tendem a ser agrupadas no centro do teclado, enquanto as menos utilizadas são colocadas nas extremidades. Isso se deve ao fato de que, dessa forma, os usuários têm um acesso mais rápido e fácil às letras mais comuns, sem precisar mover as mãos ou os dedos grandes distâncias."
   ]
  },
  {
   "cell_type": "code",
   "execution_count": 15,
   "id": "37e0074c",
   "metadata": {
    "ExecuteTime": {
     "end_time": "2023-03-24T14:35:27.577556Z",
     "start_time": "2023-03-24T14:35:27.564833Z"
    }
   },
   "outputs": [
    {
     "data": {
      "text/plain": [
       "'çjbpradlgzyx,moenuvwkh.cstifq'"
      ]
     },
     "execution_count": 15,
     "metadata": {},
     "output_type": "execute_result"
    }
   ],
   "source": [
    "best_key"
   ]
  },
  {
   "cell_type": "code",
   "execution_count": 16,
   "id": "a22b9207",
   "metadata": {
    "ExecuteTime": {
     "end_time": "2023-03-24T14:35:27.654719Z",
     "start_time": "2023-03-24T14:35:27.579553Z"
    }
   },
   "outputs": [
    {
     "data": {
      "image/png": "[encoded data removed]",
      "text/plain": [
       "<Figure size 936x360 with 1 Axes>"
      ]
     },
     "metadata": {
      "needs_background": "light"
     },
     "output_type": "display_data"
    }
   ],
   "source": [
    "plot_keyboard(best_key)"
   ]
  },
  {
   "cell_type": "markdown",
   "id": "63f14a19",
   "metadata": {},
   "source": [
    "### Melhorias"
   ]
  },
  {
   "cell_type": "markdown",
   "id": "21753fc4",
   "metadata": {},
   "source": [
    "- Otimizar para digitação com mais dedos.\n",
    "- Não ignorar os espaços.\n",
    "- Aplicar o crossover no algorítimo."
   ]
  }
 ],
 "metadata": {
  "kernelspec": {
   "display_name": "Python 3 (ipykernel)",
   "language": "python",
   "name": "python3"
  },
  "language_info": {
   "codemirror_mode": {
    "name": "ipython",
    "version": 3
   },
   "file_extension": ".py",
   "mimetype": "text/x-python",
   "name": "python",
   "nbconvert_exporter": "python",
   "pygments_lexer": "ipython3",
   "version": "3.10.7"
  }
 },
 "nbformat": 4,
 "nbformat_minor": 5
}
